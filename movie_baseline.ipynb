{
 "cells": [
  {
   "cell_type": "markdown",
   "metadata": {},
   "source": [
    "# 데이터 탐색"
   ]
  },
  {
   "cell_type": "code",
   "execution_count": 166,
   "metadata": {},
   "outputs": [],
   "source": [
    "import pandas as pd\n",
    "import numpy as np\n",
    "from sklearn.preprocessing import OneHotEncoder, OrdinalEncoder, LabelEncoder\n",
    "from scipy import sparse\n",
    "from sklearn.ensemble import RandomForestRegressor\n",
    "from lightgbm import LGBMRegressor\n",
    "from sklearn.ensemble import GradientBoostingRegressor, HistGradientBoostingRegressor\n",
    "from sklearn.model_selection import cross_val_score, KFold\n",
    "from sklearn.metrics import root_mean_squared_error\n",
    "import seaborn as sns\n",
    "import matplotlib.pyplot as plt\n",
    "import gc"
   ]
  },
  {
   "cell_type": "code",
   "execution_count": 167,
   "metadata": {},
   "outputs": [],
   "source": [
    "import matplotlib.pyplot as plt\n",
    "import matplotlib\n",
    "matplotlib.rcParams['font.family']='AppleGothic'  #Mac용\n",
    "#matplotlib.rcParam['font.family']='Malgun Gothic' 윈도우 용\n",
    "matplotlib.rcParams['font.size']=15 #글자 크기\n",
    "matplotlib.rcParams['axes.unicode_minus']=False #한글 폰트 사용 시, 마이너스 글자가 깨지는 현상을 해결"
   ]
  },
  {
   "cell_type": "code",
   "execution_count": 168,
   "metadata": {},
   "outputs": [
    {
     "data": {
      "text/html": [
       "<div>\n",
       "<style scoped>\n",
       "    .dataframe tbody tr th:only-of-type {\n",
       "        vertical-align: middle;\n",
       "    }\n",
       "\n",
       "    .dataframe tbody tr th {\n",
       "        vertical-align: top;\n",
       "    }\n",
       "\n",
       "    .dataframe thead th {\n",
       "        text-align: right;\n",
       "    }\n",
       "</style>\n",
       "<table border=\"1\" class=\"dataframe\">\n",
       "  <thead>\n",
       "    <tr style=\"text-align: right;\">\n",
       "      <th></th>\n",
       "      <th>영화제목</th>\n",
       "      <th>감독</th>\n",
       "      <th>제작사</th>\n",
       "      <th>수입사</th>\n",
       "      <th>유통사</th>\n",
       "      <th>영화형태</th>\n",
       "      <th>국적</th>\n",
       "      <th>총스크린수</th>\n",
       "      <th>매출금액</th>\n",
       "      <th>관람객</th>\n",
       "      <th>서울매출금액</th>\n",
       "      <th>서울관람객수</th>\n",
       "      <th>장르</th>\n",
       "      <th>등급</th>\n",
       "      <th>영화구분</th>\n",
       "      <th>개봉연도</th>\n",
       "      <th>개봉월</th>\n",
       "    </tr>\n",
       "  </thead>\n",
       "  <tbody>\n",
       "    <tr>\n",
       "      <th>0</th>\n",
       "      <td>파묘</td>\n",
       "      <td>장재현</td>\n",
       "      <td>(주)쇼박스,(주)엠씨엠씨</td>\n",
       "      <td>etc</td>\n",
       "      <td>(주)쇼박스</td>\n",
       "      <td>장편</td>\n",
       "      <td>한국</td>\n",
       "      <td>2355.0</td>\n",
       "      <td>1.057937e+11</td>\n",
       "      <td>10957317.0</td>\n",
       "      <td>2.481515e+10</td>\n",
       "      <td>2507635.0</td>\n",
       "      <td>미스터리</td>\n",
       "      <td>15세이상관람가</td>\n",
       "      <td>일반영화</td>\n",
       "      <td>2024</td>\n",
       "      <td>2</td>\n",
       "    </tr>\n",
       "    <tr>\n",
       "      <th>1</th>\n",
       "      <td>듄: 파트2</td>\n",
       "      <td>드니 빌뇌브</td>\n",
       "      <td>etc</td>\n",
       "      <td>워너브러더스 코리아(주)</td>\n",
       "      <td>워너브러더스 코리아(주)</td>\n",
       "      <td>장편</td>\n",
       "      <td>미국</td>\n",
       "      <td>1544.0</td>\n",
       "      <td>2.194099e+10</td>\n",
       "      <td>1886010.0</td>\n",
       "      <td>8.730581e+09</td>\n",
       "      <td>687149.0</td>\n",
       "      <td>액션</td>\n",
       "      <td>12세이상관람가</td>\n",
       "      <td>일반영화</td>\n",
       "      <td>2024</td>\n",
       "      <td>2</td>\n",
       "    </tr>\n",
       "    <tr>\n",
       "      <th>2</th>\n",
       "      <td>댓글부대</td>\n",
       "      <td>안국진</td>\n",
       "      <td>(주)영화적순간,주식회사 디믹스스튜디오</td>\n",
       "      <td>etc</td>\n",
       "      <td>(주)에이스메이커무비웍스</td>\n",
       "      <td>장편</td>\n",
       "      <td>한국</td>\n",
       "      <td>1228.0</td>\n",
       "      <td>5.042399e+09</td>\n",
       "      <td>541058.0</td>\n",
       "      <td>1.309676e+09</td>\n",
       "      <td>134016.0</td>\n",
       "      <td>범죄</td>\n",
       "      <td>15세이상관람가</td>\n",
       "      <td>일반영화</td>\n",
       "      <td>2024</td>\n",
       "      <td>3</td>\n",
       "    </tr>\n",
       "    <tr>\n",
       "      <th>3</th>\n",
       "      <td>웡카</td>\n",
       "      <td>폴 킹</td>\n",
       "      <td>etc</td>\n",
       "      <td>워너브러더스 코리아(주)</td>\n",
       "      <td>워너브러더스 코리아(주)</td>\n",
       "      <td>장편</td>\n",
       "      <td>미국</td>\n",
       "      <td>1753.0</td>\n",
       "      <td>3.390668e+10</td>\n",
       "      <td>3526213.0</td>\n",
       "      <td>9.818367e+09</td>\n",
       "      <td>980128.0</td>\n",
       "      <td>판타지</td>\n",
       "      <td>전체관람가</td>\n",
       "      <td>일반영화</td>\n",
       "      <td>2024</td>\n",
       "      <td>1</td>\n",
       "    </tr>\n",
       "    <tr>\n",
       "      <th>4</th>\n",
       "      <td>고질라 X 콩: 뉴 엠파이어</td>\n",
       "      <td>아담 윈가드</td>\n",
       "      <td>etc</td>\n",
       "      <td>워너브러더스 코리아(주)</td>\n",
       "      <td>워너브러더스 코리아(주)</td>\n",
       "      <td>장편</td>\n",
       "      <td>미국</td>\n",
       "      <td>996.0</td>\n",
       "      <td>3.220813e+09</td>\n",
       "      <td>320982.0</td>\n",
       "      <td>7.506203e+08</td>\n",
       "      <td>69172.0</td>\n",
       "      <td>액션</td>\n",
       "      <td>12세이상관람가</td>\n",
       "      <td>일반영화</td>\n",
       "      <td>2024</td>\n",
       "      <td>3</td>\n",
       "    </tr>\n",
       "    <tr>\n",
       "      <th>...</th>\n",
       "      <td>...</td>\n",
       "      <td>...</td>\n",
       "      <td>...</td>\n",
       "      <td>...</td>\n",
       "      <td>...</td>\n",
       "      <td>...</td>\n",
       "      <td>...</td>\n",
       "      <td>...</td>\n",
       "      <td>...</td>\n",
       "      <td>...</td>\n",
       "      <td>...</td>\n",
       "      <td>...</td>\n",
       "      <td>...</td>\n",
       "      <td>...</td>\n",
       "      <td>...</td>\n",
       "      <td>...</td>\n",
       "      <td>...</td>\n",
       "    </tr>\n",
       "    <tr>\n",
       "      <th>7059</th>\n",
       "      <td>D컵여자친구</td>\n",
       "      <td>이정석</td>\n",
       "      <td>스마일컨텐츠</td>\n",
       "      <td>etc</td>\n",
       "      <td>스마일컨텐츠</td>\n",
       "      <td>장편</td>\n",
       "      <td>한국</td>\n",
       "      <td>1.0</td>\n",
       "      <td>5.000000e+03</td>\n",
       "      <td>1.0</td>\n",
       "      <td>0.000000e+00</td>\n",
       "      <td>0.0</td>\n",
       "      <td>멜로/로맨스</td>\n",
       "      <td>청소년관람불가</td>\n",
       "      <td>일반영화</td>\n",
       "      <td>2020</td>\n",
       "      <td>11</td>\n",
       "    </tr>\n",
       "    <tr>\n",
       "      <th>7060</th>\n",
       "      <td>F컵 거유의 육덕녀</td>\n",
       "      <td>버드맨 텟페이</td>\n",
       "      <td>etc</td>\n",
       "      <td>(주)영진크리에이티브</td>\n",
       "      <td>(주)영진크리에이티브</td>\n",
       "      <td>장편</td>\n",
       "      <td>일본</td>\n",
       "      <td>1.0</td>\n",
       "      <td>6.000000e+03</td>\n",
       "      <td>1.0</td>\n",
       "      <td>0.000000e+00</td>\n",
       "      <td>0.0</td>\n",
       "      <td>멜로/로맨스</td>\n",
       "      <td>청소년관람불가</td>\n",
       "      <td>일반영화</td>\n",
       "      <td>2020</td>\n",
       "      <td>8</td>\n",
       "    </tr>\n",
       "    <tr>\n",
       "      <th>7061</th>\n",
       "      <td>F컵 거유의 육덕녀 무삭제판</td>\n",
       "      <td>버드맨 텟페이</td>\n",
       "      <td>etc</td>\n",
       "      <td>etc</td>\n",
       "      <td>(주)영진크리에이티브</td>\n",
       "      <td>장편</td>\n",
       "      <td>일본</td>\n",
       "      <td>1.0</td>\n",
       "      <td>6.000000e+03</td>\n",
       "      <td>1.0</td>\n",
       "      <td>0.000000e+00</td>\n",
       "      <td>0.0</td>\n",
       "      <td>멜로/로맨스</td>\n",
       "      <td>청소년관람불가</td>\n",
       "      <td>일반영화</td>\n",
       "      <td>2020</td>\n",
       "      <td>11</td>\n",
       "    </tr>\n",
       "    <tr>\n",
       "      <th>7062</th>\n",
       "      <td>G컵 베이글의 격렬한 플레이</td>\n",
       "      <td>etc</td>\n",
       "      <td>etc</td>\n",
       "      <td>(주)빅콘미디어</td>\n",
       "      <td>(주)빅콘미디어</td>\n",
       "      <td>장편</td>\n",
       "      <td>일본</td>\n",
       "      <td>1.0</td>\n",
       "      <td>6.000000e+03</td>\n",
       "      <td>1.0</td>\n",
       "      <td>0.000000e+00</td>\n",
       "      <td>0.0</td>\n",
       "      <td>성인물(에로)</td>\n",
       "      <td>청소년관람불가</td>\n",
       "      <td>일반영화</td>\n",
       "      <td>2020</td>\n",
       "      <td>3</td>\n",
       "    </tr>\n",
       "    <tr>\n",
       "      <th>7063</th>\n",
       "      <td>G컵 베이글의 능숙한 몸놀림</td>\n",
       "      <td>아라시야마 미치루</td>\n",
       "      <td>etc</td>\n",
       "      <td>(주)빅콘미디어</td>\n",
       "      <td>(주)빅콘미디어</td>\n",
       "      <td>장편</td>\n",
       "      <td>일본</td>\n",
       "      <td>1.0</td>\n",
       "      <td>6.000000e+03</td>\n",
       "      <td>1.0</td>\n",
       "      <td>0.000000e+00</td>\n",
       "      <td>0.0</td>\n",
       "      <td>성인물(에로)</td>\n",
       "      <td>청소년관람불가</td>\n",
       "      <td>일반영화</td>\n",
       "      <td>2020</td>\n",
       "      <td>9</td>\n",
       "    </tr>\n",
       "  </tbody>\n",
       "</table>\n",
       "<p>7064 rows × 17 columns</p>\n",
       "</div>"
      ],
      "text/plain": [
       "                 영화제목         감독                    제작사            수입사  \\\n",
       "0                  파묘        장재현         (주)쇼박스,(주)엠씨엠씨            etc   \n",
       "1              듄: 파트2     드니 빌뇌브                    etc  워너브러더스 코리아(주)   \n",
       "2                댓글부대        안국진  (주)영화적순간,주식회사 디믹스스튜디오            etc   \n",
       "3                  웡카        폴 킹                    etc  워너브러더스 코리아(주)   \n",
       "4     고질라 X 콩: 뉴 엠파이어     아담 윈가드                    etc  워너브러더스 코리아(주)   \n",
       "...               ...        ...                    ...            ...   \n",
       "7059           D컵여자친구        이정석                 스마일컨텐츠            etc   \n",
       "7060       F컵 거유의 육덕녀    버드맨 텟페이                    etc    (주)영진크리에이티브   \n",
       "7061  F컵 거유의 육덕녀 무삭제판    버드맨 텟페이                    etc            etc   \n",
       "7062  G컵 베이글의 격렬한 플레이        etc                    etc       (주)빅콘미디어   \n",
       "7063  G컵 베이글의 능숙한 몸놀림  아라시야마 미치루                    etc       (주)빅콘미디어   \n",
       "\n",
       "                유통사 영화형태  국적   총스크린수          매출금액         관람객        서울매출금액  \\\n",
       "0            (주)쇼박스   장편  한국  2355.0  1.057937e+11  10957317.0  2.481515e+10   \n",
       "1     워너브러더스 코리아(주)   장편  미국  1544.0  2.194099e+10   1886010.0  8.730581e+09   \n",
       "2     (주)에이스메이커무비웍스   장편  한국  1228.0  5.042399e+09    541058.0  1.309676e+09   \n",
       "3     워너브러더스 코리아(주)   장편  미국  1753.0  3.390668e+10   3526213.0  9.818367e+09   \n",
       "4     워너브러더스 코리아(주)   장편  미국   996.0  3.220813e+09    320982.0  7.506203e+08   \n",
       "...             ...  ...  ..     ...           ...         ...           ...   \n",
       "7059         스마일컨텐츠   장편  한국     1.0  5.000000e+03         1.0  0.000000e+00   \n",
       "7060    (주)영진크리에이티브   장편  일본     1.0  6.000000e+03         1.0  0.000000e+00   \n",
       "7061    (주)영진크리에이티브   장편  일본     1.0  6.000000e+03         1.0  0.000000e+00   \n",
       "7062       (주)빅콘미디어   장편  일본     1.0  6.000000e+03         1.0  0.000000e+00   \n",
       "7063       (주)빅콘미디어   장편  일본     1.0  6.000000e+03         1.0  0.000000e+00   \n",
       "\n",
       "         서울관람객수       장르        등급  영화구분  개봉연도  개봉월  \n",
       "0     2507635.0     미스터리  15세이상관람가  일반영화  2024    2  \n",
       "1      687149.0       액션  12세이상관람가  일반영화  2024    2  \n",
       "2      134016.0       범죄  15세이상관람가  일반영화  2024    3  \n",
       "3      980128.0      판타지     전체관람가  일반영화  2024    1  \n",
       "4       69172.0       액션  12세이상관람가  일반영화  2024    3  \n",
       "...         ...      ...       ...   ...   ...  ...  \n",
       "7059        0.0   멜로/로맨스   청소년관람불가  일반영화  2020   11  \n",
       "7060        0.0   멜로/로맨스   청소년관람불가  일반영화  2020    8  \n",
       "7061        0.0   멜로/로맨스   청소년관람불가  일반영화  2020   11  \n",
       "7062        0.0  성인물(에로)   청소년관람불가  일반영화  2020    3  \n",
       "7063        0.0  성인물(에로)   청소년관람불가  일반영화  2020    9  \n",
       "\n",
       "[7064 rows x 17 columns]"
      ]
     },
     "execution_count": 168,
     "metadata": {},
     "output_type": "execute_result"
    }
   ],
   "source": [
    "df = pd.read_csv(\"movie_for_baseline.csv\")\n",
    "df"
   ]
  },
  {
   "cell_type": "markdown",
   "metadata": {},
   "source": [
    "## 요약본"
   ]
  },
  {
   "cell_type": "code",
   "execution_count": 169,
   "metadata": {},
   "outputs": [],
   "source": [
    "def resumtable(data):\n",
    "    summary = pd.DataFrame(data.dtypes).reset_index().rename(columns={\"index\":\"피처\", 0:\"dtypes\"})\n",
    "    summary[\"결측치 갯수\"] = data.isnull().sum().values\n",
    "    summary[\"고윳값 갯수\"] = data.nunique().values\n",
    "    summary[\"첫번째 값\"] = data.iloc[0].values\n",
    "    summary[\"두번째 값\"] = data.iloc[1].values\n",
    "    summary[\"세번째 값\"] = data.iloc[2].values\n",
    "    \n",
    "    return summary"
   ]
  },
  {
   "cell_type": "code",
   "execution_count": 170,
   "metadata": {},
   "outputs": [
    {
     "data": {
      "text/html": [
       "<div>\n",
       "<style scoped>\n",
       "    .dataframe tbody tr th:only-of-type {\n",
       "        vertical-align: middle;\n",
       "    }\n",
       "\n",
       "    .dataframe tbody tr th {\n",
       "        vertical-align: top;\n",
       "    }\n",
       "\n",
       "    .dataframe thead th {\n",
       "        text-align: right;\n",
       "    }\n",
       "</style>\n",
       "<table border=\"1\" class=\"dataframe\">\n",
       "  <thead>\n",
       "    <tr style=\"text-align: right;\">\n",
       "      <th></th>\n",
       "      <th>피처</th>\n",
       "      <th>dtypes</th>\n",
       "      <th>결측치 갯수</th>\n",
       "      <th>고윳값 갯수</th>\n",
       "      <th>첫번째 값</th>\n",
       "      <th>두번째 값</th>\n",
       "      <th>세번째 값</th>\n",
       "    </tr>\n",
       "  </thead>\n",
       "  <tbody>\n",
       "    <tr>\n",
       "      <th>0</th>\n",
       "      <td>영화제목</td>\n",
       "      <td>object</td>\n",
       "      <td>0</td>\n",
       "      <td>7050</td>\n",
       "      <td>파묘</td>\n",
       "      <td>듄: 파트2</td>\n",
       "      <td>댓글부대</td>\n",
       "    </tr>\n",
       "    <tr>\n",
       "      <th>1</th>\n",
       "      <td>감독</td>\n",
       "      <td>object</td>\n",
       "      <td>0</td>\n",
       "      <td>2453</td>\n",
       "      <td>장재현</td>\n",
       "      <td>드니 빌뇌브</td>\n",
       "      <td>안국진</td>\n",
       "    </tr>\n",
       "    <tr>\n",
       "      <th>2</th>\n",
       "      <td>제작사</td>\n",
       "      <td>object</td>\n",
       "      <td>0</td>\n",
       "      <td>764</td>\n",
       "      <td>(주)쇼박스,(주)엠씨엠씨</td>\n",
       "      <td>etc</td>\n",
       "      <td>(주)영화적순간,주식회사 디믹스스튜디오</td>\n",
       "    </tr>\n",
       "    <tr>\n",
       "      <th>3</th>\n",
       "      <td>수입사</td>\n",
       "      <td>object</td>\n",
       "      <td>0</td>\n",
       "      <td>223</td>\n",
       "      <td>etc</td>\n",
       "      <td>워너브러더스 코리아(주)</td>\n",
       "      <td>etc</td>\n",
       "    </tr>\n",
       "    <tr>\n",
       "      <th>4</th>\n",
       "      <td>유통사</td>\n",
       "      <td>object</td>\n",
       "      <td>0</td>\n",
       "      <td>541</td>\n",
       "      <td>(주)쇼박스</td>\n",
       "      <td>워너브러더스 코리아(주)</td>\n",
       "      <td>(주)에이스메이커무비웍스</td>\n",
       "    </tr>\n",
       "    <tr>\n",
       "      <th>5</th>\n",
       "      <td>영화형태</td>\n",
       "      <td>object</td>\n",
       "      <td>0</td>\n",
       "      <td>4</td>\n",
       "      <td>장편</td>\n",
       "      <td>장편</td>\n",
       "      <td>장편</td>\n",
       "    </tr>\n",
       "    <tr>\n",
       "      <th>6</th>\n",
       "      <td>국적</td>\n",
       "      <td>object</td>\n",
       "      <td>0</td>\n",
       "      <td>56</td>\n",
       "      <td>한국</td>\n",
       "      <td>미국</td>\n",
       "      <td>한국</td>\n",
       "    </tr>\n",
       "    <tr>\n",
       "      <th>7</th>\n",
       "      <td>총스크린수</td>\n",
       "      <td>float64</td>\n",
       "      <td>0</td>\n",
       "      <td>595</td>\n",
       "      <td>2355.0</td>\n",
       "      <td>1544.0</td>\n",
       "      <td>1228.0</td>\n",
       "    </tr>\n",
       "    <tr>\n",
       "      <th>8</th>\n",
       "      <td>매출금액</td>\n",
       "      <td>float64</td>\n",
       "      <td>0</td>\n",
       "      <td>1316</td>\n",
       "      <td>105793676208.0</td>\n",
       "      <td>21940993462.0</td>\n",
       "      <td>5042399113.0</td>\n",
       "    </tr>\n",
       "    <tr>\n",
       "      <th>9</th>\n",
       "      <td>관람객</td>\n",
       "      <td>float64</td>\n",
       "      <td>0</td>\n",
       "      <td>1614</td>\n",
       "      <td>10957317.0</td>\n",
       "      <td>1886010.0</td>\n",
       "      <td>541058.0</td>\n",
       "    </tr>\n",
       "    <tr>\n",
       "      <th>10</th>\n",
       "      <td>서울매출금액</td>\n",
       "      <td>float64</td>\n",
       "      <td>0</td>\n",
       "      <td>1207</td>\n",
       "      <td>24815149465.0</td>\n",
       "      <td>8730581144.0</td>\n",
       "      <td>1309676360.0</td>\n",
       "    </tr>\n",
       "    <tr>\n",
       "      <th>11</th>\n",
       "      <td>서울관람객수</td>\n",
       "      <td>float64</td>\n",
       "      <td>0</td>\n",
       "      <td>1464</td>\n",
       "      <td>2507635.0</td>\n",
       "      <td>687149.0</td>\n",
       "      <td>134016.0</td>\n",
       "    </tr>\n",
       "    <tr>\n",
       "      <th>12</th>\n",
       "      <td>장르</td>\n",
       "      <td>object</td>\n",
       "      <td>0</td>\n",
       "      <td>21</td>\n",
       "      <td>미스터리</td>\n",
       "      <td>액션</td>\n",
       "      <td>범죄</td>\n",
       "    </tr>\n",
       "    <tr>\n",
       "      <th>13</th>\n",
       "      <td>등급</td>\n",
       "      <td>object</td>\n",
       "      <td>0</td>\n",
       "      <td>7</td>\n",
       "      <td>15세이상관람가</td>\n",
       "      <td>12세이상관람가</td>\n",
       "      <td>15세이상관람가</td>\n",
       "    </tr>\n",
       "    <tr>\n",
       "      <th>14</th>\n",
       "      <td>영화구분</td>\n",
       "      <td>object</td>\n",
       "      <td>0</td>\n",
       "      <td>2</td>\n",
       "      <td>일반영화</td>\n",
       "      <td>일반영화</td>\n",
       "      <td>일반영화</td>\n",
       "    </tr>\n",
       "    <tr>\n",
       "      <th>15</th>\n",
       "      <td>개봉연도</td>\n",
       "      <td>int64</td>\n",
       "      <td>0</td>\n",
       "      <td>7</td>\n",
       "      <td>2024</td>\n",
       "      <td>2024</td>\n",
       "      <td>2024</td>\n",
       "    </tr>\n",
       "    <tr>\n",
       "      <th>16</th>\n",
       "      <td>개봉월</td>\n",
       "      <td>int64</td>\n",
       "      <td>0</td>\n",
       "      <td>12</td>\n",
       "      <td>2</td>\n",
       "      <td>2</td>\n",
       "      <td>3</td>\n",
       "    </tr>\n",
       "  </tbody>\n",
       "</table>\n",
       "</div>"
      ],
      "text/plain": [
       "        피처   dtypes  결측치 갯수  고윳값 갯수           첫번째 값          두번째 값  \\\n",
       "0     영화제목   object       0    7050              파묘         듄: 파트2   \n",
       "1       감독   object       0    2453             장재현         드니 빌뇌브   \n",
       "2      제작사   object       0     764  (주)쇼박스,(주)엠씨엠씨            etc   \n",
       "3      수입사   object       0     223             etc  워너브러더스 코리아(주)   \n",
       "4      유통사   object       0     541          (주)쇼박스  워너브러더스 코리아(주)   \n",
       "5     영화형태   object       0       4              장편             장편   \n",
       "6       국적   object       0      56              한국             미국   \n",
       "7    총스크린수  float64       0     595          2355.0         1544.0   \n",
       "8     매출금액  float64       0    1316  105793676208.0  21940993462.0   \n",
       "9      관람객  float64       0    1614      10957317.0      1886010.0   \n",
       "10  서울매출금액  float64       0    1207   24815149465.0   8730581144.0   \n",
       "11  서울관람객수  float64       0    1464       2507635.0       687149.0   \n",
       "12      장르   object       0      21            미스터리             액션   \n",
       "13      등급   object       0       7        15세이상관람가       12세이상관람가   \n",
       "14    영화구분   object       0       2            일반영화           일반영화   \n",
       "15    개봉연도    int64       0       7            2024           2024   \n",
       "16     개봉월    int64       0      12               2              2   \n",
       "\n",
       "                    세번째 값  \n",
       "0                    댓글부대  \n",
       "1                     안국진  \n",
       "2   (주)영화적순간,주식회사 디믹스스튜디오  \n",
       "3                     etc  \n",
       "4           (주)에이스메이커무비웍스  \n",
       "5                      장편  \n",
       "6                      한국  \n",
       "7                  1228.0  \n",
       "8            5042399113.0  \n",
       "9                541058.0  \n",
       "10           1309676360.0  \n",
       "11               134016.0  \n",
       "12                     범죄  \n",
       "13               15세이상관람가  \n",
       "14                   일반영화  \n",
       "15                   2024  \n",
       "16                      3  "
      ]
     },
     "execution_count": 170,
     "metadata": {},
     "output_type": "execute_result"
    }
   ],
   "source": [
    "resumtable(df)"
   ]
  },
  {
   "cell_type": "code",
   "execution_count": 171,
   "metadata": {},
   "outputs": [
    {
     "data": {
      "text/html": [
       "<div>\n",
       "<style scoped>\n",
       "    .dataframe tbody tr th:only-of-type {\n",
       "        vertical-align: middle;\n",
       "    }\n",
       "\n",
       "    .dataframe tbody tr th {\n",
       "        vertical-align: top;\n",
       "    }\n",
       "\n",
       "    .dataframe thead th {\n",
       "        text-align: right;\n",
       "    }\n",
       "</style>\n",
       "<table border=\"1\" class=\"dataframe\">\n",
       "  <thead>\n",
       "    <tr style=\"text-align: right;\">\n",
       "      <th></th>\n",
       "      <th>영화제목</th>\n",
       "      <th>감독</th>\n",
       "      <th>제작사</th>\n",
       "      <th>수입사</th>\n",
       "      <th>유통사</th>\n",
       "      <th>영화형태</th>\n",
       "      <th>국적</th>\n",
       "      <th>총스크린수</th>\n",
       "      <th>매출금액</th>\n",
       "      <th>관람객</th>\n",
       "      <th>서울매출금액</th>\n",
       "      <th>서울관람객수</th>\n",
       "      <th>장르</th>\n",
       "      <th>등급</th>\n",
       "      <th>영화구분</th>\n",
       "      <th>개봉연도</th>\n",
       "      <th>개봉월</th>\n",
       "    </tr>\n",
       "  </thead>\n",
       "  <tbody>\n",
       "    <tr>\n",
       "      <th>0</th>\n",
       "      <td>파묘</td>\n",
       "      <td>장재현</td>\n",
       "      <td>(주)쇼박스,(주)엠씨엠씨</td>\n",
       "      <td>etc</td>\n",
       "      <td>(주)쇼박스</td>\n",
       "      <td>장편</td>\n",
       "      <td>한국</td>\n",
       "      <td>2355.0</td>\n",
       "      <td>1.057937e+11</td>\n",
       "      <td>10957317.0</td>\n",
       "      <td>2.481515e+10</td>\n",
       "      <td>2507635.0</td>\n",
       "      <td>미스터리</td>\n",
       "      <td>15세이상관람가</td>\n",
       "      <td>일반영화</td>\n",
       "      <td>2024</td>\n",
       "      <td>2</td>\n",
       "    </tr>\n",
       "    <tr>\n",
       "      <th>1</th>\n",
       "      <td>듄: 파트2</td>\n",
       "      <td>드니 빌뇌브</td>\n",
       "      <td>etc</td>\n",
       "      <td>워너브러더스 코리아(주)</td>\n",
       "      <td>워너브러더스 코리아(주)</td>\n",
       "      <td>장편</td>\n",
       "      <td>미국</td>\n",
       "      <td>1544.0</td>\n",
       "      <td>2.194099e+10</td>\n",
       "      <td>1886010.0</td>\n",
       "      <td>8.730581e+09</td>\n",
       "      <td>687149.0</td>\n",
       "      <td>액션</td>\n",
       "      <td>12세이상관람가</td>\n",
       "      <td>일반영화</td>\n",
       "      <td>2024</td>\n",
       "      <td>2</td>\n",
       "    </tr>\n",
       "    <tr>\n",
       "      <th>2</th>\n",
       "      <td>댓글부대</td>\n",
       "      <td>안국진</td>\n",
       "      <td>(주)영화적순간,주식회사 디믹스스튜디오</td>\n",
       "      <td>etc</td>\n",
       "      <td>(주)에이스메이커무비웍스</td>\n",
       "      <td>장편</td>\n",
       "      <td>한국</td>\n",
       "      <td>1228.0</td>\n",
       "      <td>5.042399e+09</td>\n",
       "      <td>541058.0</td>\n",
       "      <td>1.309676e+09</td>\n",
       "      <td>134016.0</td>\n",
       "      <td>범죄</td>\n",
       "      <td>15세이상관람가</td>\n",
       "      <td>일반영화</td>\n",
       "      <td>2024</td>\n",
       "      <td>3</td>\n",
       "    </tr>\n",
       "    <tr>\n",
       "      <th>3</th>\n",
       "      <td>웡카</td>\n",
       "      <td>폴 킹</td>\n",
       "      <td>etc</td>\n",
       "      <td>워너브러더스 코리아(주)</td>\n",
       "      <td>워너브러더스 코리아(주)</td>\n",
       "      <td>장편</td>\n",
       "      <td>미국</td>\n",
       "      <td>1753.0</td>\n",
       "      <td>3.390668e+10</td>\n",
       "      <td>3526213.0</td>\n",
       "      <td>9.818367e+09</td>\n",
       "      <td>980128.0</td>\n",
       "      <td>판타지</td>\n",
       "      <td>전체관람가</td>\n",
       "      <td>일반영화</td>\n",
       "      <td>2024</td>\n",
       "      <td>1</td>\n",
       "    </tr>\n",
       "    <tr>\n",
       "      <th>4</th>\n",
       "      <td>고질라 X 콩: 뉴 엠파이어</td>\n",
       "      <td>아담 윈가드</td>\n",
       "      <td>etc</td>\n",
       "      <td>워너브러더스 코리아(주)</td>\n",
       "      <td>워너브러더스 코리아(주)</td>\n",
       "      <td>장편</td>\n",
       "      <td>미국</td>\n",
       "      <td>996.0</td>\n",
       "      <td>3.220813e+09</td>\n",
       "      <td>320982.0</td>\n",
       "      <td>7.506203e+08</td>\n",
       "      <td>69172.0</td>\n",
       "      <td>액션</td>\n",
       "      <td>12세이상관람가</td>\n",
       "      <td>일반영화</td>\n",
       "      <td>2024</td>\n",
       "      <td>3</td>\n",
       "    </tr>\n",
       "    <tr>\n",
       "      <th>...</th>\n",
       "      <td>...</td>\n",
       "      <td>...</td>\n",
       "      <td>...</td>\n",
       "      <td>...</td>\n",
       "      <td>...</td>\n",
       "      <td>...</td>\n",
       "      <td>...</td>\n",
       "      <td>...</td>\n",
       "      <td>...</td>\n",
       "      <td>...</td>\n",
       "      <td>...</td>\n",
       "      <td>...</td>\n",
       "      <td>...</td>\n",
       "      <td>...</td>\n",
       "      <td>...</td>\n",
       "      <td>...</td>\n",
       "      <td>...</td>\n",
       "    </tr>\n",
       "    <tr>\n",
       "      <th>7059</th>\n",
       "      <td>D컵여자친구</td>\n",
       "      <td>이정석</td>\n",
       "      <td>스마일컨텐츠</td>\n",
       "      <td>etc</td>\n",
       "      <td>스마일컨텐츠</td>\n",
       "      <td>장편</td>\n",
       "      <td>한국</td>\n",
       "      <td>1.0</td>\n",
       "      <td>5.000000e+03</td>\n",
       "      <td>1.0</td>\n",
       "      <td>0.000000e+00</td>\n",
       "      <td>0.0</td>\n",
       "      <td>멜로/로맨스</td>\n",
       "      <td>청소년관람불가</td>\n",
       "      <td>일반영화</td>\n",
       "      <td>2020</td>\n",
       "      <td>11</td>\n",
       "    </tr>\n",
       "    <tr>\n",
       "      <th>7060</th>\n",
       "      <td>F컵 거유의 육덕녀</td>\n",
       "      <td>버드맨 텟페이</td>\n",
       "      <td>etc</td>\n",
       "      <td>(주)영진크리에이티브</td>\n",
       "      <td>(주)영진크리에이티브</td>\n",
       "      <td>장편</td>\n",
       "      <td>일본</td>\n",
       "      <td>1.0</td>\n",
       "      <td>6.000000e+03</td>\n",
       "      <td>1.0</td>\n",
       "      <td>0.000000e+00</td>\n",
       "      <td>0.0</td>\n",
       "      <td>멜로/로맨스</td>\n",
       "      <td>청소년관람불가</td>\n",
       "      <td>일반영화</td>\n",
       "      <td>2020</td>\n",
       "      <td>8</td>\n",
       "    </tr>\n",
       "    <tr>\n",
       "      <th>7061</th>\n",
       "      <td>F컵 거유의 육덕녀 무삭제판</td>\n",
       "      <td>버드맨 텟페이</td>\n",
       "      <td>etc</td>\n",
       "      <td>etc</td>\n",
       "      <td>(주)영진크리에이티브</td>\n",
       "      <td>장편</td>\n",
       "      <td>일본</td>\n",
       "      <td>1.0</td>\n",
       "      <td>6.000000e+03</td>\n",
       "      <td>1.0</td>\n",
       "      <td>0.000000e+00</td>\n",
       "      <td>0.0</td>\n",
       "      <td>멜로/로맨스</td>\n",
       "      <td>청소년관람불가</td>\n",
       "      <td>일반영화</td>\n",
       "      <td>2020</td>\n",
       "      <td>11</td>\n",
       "    </tr>\n",
       "    <tr>\n",
       "      <th>7062</th>\n",
       "      <td>G컵 베이글의 격렬한 플레이</td>\n",
       "      <td>etc</td>\n",
       "      <td>etc</td>\n",
       "      <td>(주)빅콘미디어</td>\n",
       "      <td>(주)빅콘미디어</td>\n",
       "      <td>장편</td>\n",
       "      <td>일본</td>\n",
       "      <td>1.0</td>\n",
       "      <td>6.000000e+03</td>\n",
       "      <td>1.0</td>\n",
       "      <td>0.000000e+00</td>\n",
       "      <td>0.0</td>\n",
       "      <td>성인물(에로)</td>\n",
       "      <td>청소년관람불가</td>\n",
       "      <td>일반영화</td>\n",
       "      <td>2020</td>\n",
       "      <td>3</td>\n",
       "    </tr>\n",
       "    <tr>\n",
       "      <th>7063</th>\n",
       "      <td>G컵 베이글의 능숙한 몸놀림</td>\n",
       "      <td>아라시야마 미치루</td>\n",
       "      <td>etc</td>\n",
       "      <td>(주)빅콘미디어</td>\n",
       "      <td>(주)빅콘미디어</td>\n",
       "      <td>장편</td>\n",
       "      <td>일본</td>\n",
       "      <td>1.0</td>\n",
       "      <td>6.000000e+03</td>\n",
       "      <td>1.0</td>\n",
       "      <td>0.000000e+00</td>\n",
       "      <td>0.0</td>\n",
       "      <td>성인물(에로)</td>\n",
       "      <td>청소년관람불가</td>\n",
       "      <td>일반영화</td>\n",
       "      <td>2020</td>\n",
       "      <td>9</td>\n",
       "    </tr>\n",
       "  </tbody>\n",
       "</table>\n",
       "<p>7064 rows × 17 columns</p>\n",
       "</div>"
      ],
      "text/plain": [
       "                 영화제목         감독                    제작사            수입사  \\\n",
       "0                  파묘        장재현         (주)쇼박스,(주)엠씨엠씨            etc   \n",
       "1              듄: 파트2     드니 빌뇌브                    etc  워너브러더스 코리아(주)   \n",
       "2                댓글부대        안국진  (주)영화적순간,주식회사 디믹스스튜디오            etc   \n",
       "3                  웡카        폴 킹                    etc  워너브러더스 코리아(주)   \n",
       "4     고질라 X 콩: 뉴 엠파이어     아담 윈가드                    etc  워너브러더스 코리아(주)   \n",
       "...               ...        ...                    ...            ...   \n",
       "7059           D컵여자친구        이정석                 스마일컨텐츠            etc   \n",
       "7060       F컵 거유의 육덕녀    버드맨 텟페이                    etc    (주)영진크리에이티브   \n",
       "7061  F컵 거유의 육덕녀 무삭제판    버드맨 텟페이                    etc            etc   \n",
       "7062  G컵 베이글의 격렬한 플레이        etc                    etc       (주)빅콘미디어   \n",
       "7063  G컵 베이글의 능숙한 몸놀림  아라시야마 미치루                    etc       (주)빅콘미디어   \n",
       "\n",
       "                유통사 영화형태  국적   총스크린수          매출금액         관람객        서울매출금액  \\\n",
       "0            (주)쇼박스   장편  한국  2355.0  1.057937e+11  10957317.0  2.481515e+10   \n",
       "1     워너브러더스 코리아(주)   장편  미국  1544.0  2.194099e+10   1886010.0  8.730581e+09   \n",
       "2     (주)에이스메이커무비웍스   장편  한국  1228.0  5.042399e+09    541058.0  1.309676e+09   \n",
       "3     워너브러더스 코리아(주)   장편  미국  1753.0  3.390668e+10   3526213.0  9.818367e+09   \n",
       "4     워너브러더스 코리아(주)   장편  미국   996.0  3.220813e+09    320982.0  7.506203e+08   \n",
       "...             ...  ...  ..     ...           ...         ...           ...   \n",
       "7059         스마일컨텐츠   장편  한국     1.0  5.000000e+03         1.0  0.000000e+00   \n",
       "7060    (주)영진크리에이티브   장편  일본     1.0  6.000000e+03         1.0  0.000000e+00   \n",
       "7061    (주)영진크리에이티브   장편  일본     1.0  6.000000e+03         1.0  0.000000e+00   \n",
       "7062       (주)빅콘미디어   장편  일본     1.0  6.000000e+03         1.0  0.000000e+00   \n",
       "7063       (주)빅콘미디어   장편  일본     1.0  6.000000e+03         1.0  0.000000e+00   \n",
       "\n",
       "         서울관람객수       장르        등급  영화구분  개봉연도  개봉월  \n",
       "0     2507635.0     미스터리  15세이상관람가  일반영화  2024    2  \n",
       "1      687149.0       액션  12세이상관람가  일반영화  2024    2  \n",
       "2      134016.0       범죄  15세이상관람가  일반영화  2024    3  \n",
       "3      980128.0      판타지     전체관람가  일반영화  2024    1  \n",
       "4       69172.0       액션  12세이상관람가  일반영화  2024    3  \n",
       "...         ...      ...       ...   ...   ...  ...  \n",
       "7059        0.0   멜로/로맨스   청소년관람불가  일반영화  2020   11  \n",
       "7060        0.0   멜로/로맨스   청소년관람불가  일반영화  2020    8  \n",
       "7061        0.0   멜로/로맨스   청소년관람불가  일반영화  2020   11  \n",
       "7062        0.0  성인물(에로)   청소년관람불가  일반영화  2020    3  \n",
       "7063        0.0  성인물(에로)   청소년관람불가  일반영화  2020    9  \n",
       "\n",
       "[7064 rows x 17 columns]"
      ]
     },
     "execution_count": 171,
     "metadata": {},
     "output_type": "execute_result"
    }
   ],
   "source": [
    "df"
   ]
  },
  {
   "cell_type": "markdown",
   "metadata": {},
   "source": [
    "# 데이터 분리\n",
    "- 과거 영화 80프로의 데이터 > train\n",
    "- 최근 영화 20프로의 데이터 > test"
   ]
  },
  {
   "cell_type": "code",
   "execution_count": 172,
   "metadata": {},
   "outputs": [
    {
     "data": {
      "text/plain": [
       "((5664, 17), (1400, 17))"
      ]
     },
     "execution_count": 172,
     "metadata": {},
     "output_type": "execute_result"
    }
   ],
   "source": [
    "train = df.iloc[1400:]\n",
    "test = df.iloc[:1400]\n",
    "\n",
    "train.shape, test.shape"
   ]
  },
  {
   "cell_type": "markdown",
   "metadata": {},
   "source": [
    "- target값(\"관람객\") 설정"
   ]
  },
  {
   "cell_type": "code",
   "execution_count": 173,
   "metadata": {},
   "outputs": [
    {
     "data": {
      "text/plain": [
       "((5664, 16), (5664,), (1400, 16), (1400,))"
      ]
     },
     "execution_count": 173,
     "metadata": {},
     "output_type": "execute_result"
    }
   ],
   "source": [
    "train_target = train[\"관람객\"]\n",
    "train = train.drop(columns=\"관람객\") # train 데이터에서 target값 제외\n",
    "\n",
    "test_target = test[\"관람객\"]\n",
    "test = test.drop(columns=\"관람객\")\n",
    "\n",
    "train.shape, train_target.shape, test.shape, test_target.shape"
   ]
  },
  {
   "cell_type": "markdown",
   "metadata": {},
   "source": [
    "# 인코딩\n"
   ]
  },
  {
   "cell_type": "code",
   "execution_count": 175,
   "metadata": {},
   "outputs": [
    {
     "data": {
      "text/plain": [
       "((5664, 15), (1400, 15))"
      ]
     },
     "execution_count": 175,
     "metadata": {},
     "output_type": "execute_result"
    }
   ],
   "source": [
    "# 영화제목 제외 인코딩 필요\n",
    "train_ft = train.iloc[:,1:]\n",
    "test_ft = test.iloc[:,1:]\n",
    "\n",
    "train_ft.shape, test_ft.shape"
   ]
  },
  {
   "cell_type": "markdown",
   "metadata": {},
   "source": [
    "## count_encoding\n",
    "- \"감독, 제작사, 수입사, 유통사, 영화형태, 국적, 장르, 등급, 영화구분\" 인코딩 필요\n",
    "- onehot을 쓰면 피처가 너무 많이 생겨서 나중에 feature_importance 확인 불가\n",
    "- 데이터타입이 \"object\"인 피처들을 보면 좋고 나쁜게 따로 없기 때문에 count_encoding채택"
   ]
  },
  {
   "cell_type": "code",
   "execution_count": 176,
   "metadata": {},
   "outputs": [
    {
     "data": {
      "text/plain": [
       "Index(['감독', '제작사', '수입사', '유통사', '영화형태', '국적', '장르', '등급', '영화구분'], dtype='object')"
      ]
     },
     "execution_count": 176,
     "metadata": {},
     "output_type": "execute_result"
    }
   ],
   "source": [
    "train_ft.select_dtypes(\"object\").columns"
   ]
  },
  {
   "cell_type": "markdown",
   "metadata": {},
   "source": [
    "### 감독"
   ]
  },
  {
   "cell_type": "code",
   "execution_count": 177,
   "metadata": {},
   "outputs": [],
   "source": [
    "cnt_dict = train_ft[\"감독\"].value_counts().to_dict()\n",
    "\n",
    "train_ft[\"감독\"] = train_ft[\"감독\"].map(cnt_dict)\n",
    "test_ft[\"감독\"] = test_ft[\"감독\"].map(cnt_dict)\n",
    "\n",
    "del cnt_dict\n",
    "gc.collect();"
   ]
  },
  {
   "cell_type": "markdown",
   "metadata": {},
   "source": [
    "### 제작사"
   ]
  },
  {
   "cell_type": "code",
   "execution_count": 178,
   "metadata": {},
   "outputs": [],
   "source": [
    "cnt_dict = train_ft[\"제작사\"].value_counts().to_dict()\n",
    "\n",
    "train_ft[\"제작사\"] = train_ft[\"제작사\"].map(cnt_dict)\n",
    "test_ft[\"제작사\"] = test_ft[\"제작사\"].map(cnt_dict)\n",
    "\n",
    "del cnt_dict\n",
    "gc.collect();"
   ]
  },
  {
   "cell_type": "markdown",
   "metadata": {},
   "source": [
    "### 수입사"
   ]
  },
  {
   "cell_type": "code",
   "execution_count": 179,
   "metadata": {},
   "outputs": [],
   "source": [
    "cnt_dict = train_ft[\"수입사\"].value_counts().to_dict()\n",
    "\n",
    "train_ft[\"수입사\"] = train_ft[\"수입사\"].map(cnt_dict)\n",
    "test_ft[\"수입사\"] = test_ft[\"수입사\"].map(cnt_dict)\n",
    "\n",
    "del cnt_dict\n",
    "gc.collect();"
   ]
  },
  {
   "cell_type": "markdown",
   "metadata": {},
   "source": [
    "### 유통사"
   ]
  },
  {
   "cell_type": "code",
   "execution_count": 180,
   "metadata": {},
   "outputs": [],
   "source": [
    "cnt_dict = train_ft[\"유통사\"].value_counts().to_dict()\n",
    "\n",
    "train_ft[\"유통사\"] = train_ft[\"유통사\"].map(cnt_dict)\n",
    "test_ft[\"유통사\"] = test_ft[\"유통사\"].map(cnt_dict)\n",
    "\n",
    "del cnt_dict\n",
    "gc.collect();"
   ]
  },
  {
   "cell_type": "markdown",
   "metadata": {},
   "source": [
    "### 영화형태"
   ]
  },
  {
   "cell_type": "code",
   "execution_count": 181,
   "metadata": {},
   "outputs": [],
   "source": [
    "cnt_dict = train_ft[\"영화형태\"].value_counts().to_dict()\n",
    "\n",
    "train_ft[\"영화형태\"] = train_ft[\"영화형태\"].map(cnt_dict)\n",
    "test_ft[\"영화형태\"] = test_ft[\"영화형태\"].map(cnt_dict)\n",
    "\n",
    "del cnt_dict\n",
    "gc.collect();"
   ]
  },
  {
   "cell_type": "markdown",
   "metadata": {},
   "source": [
    "### 국적"
   ]
  },
  {
   "cell_type": "code",
   "execution_count": 182,
   "metadata": {},
   "outputs": [],
   "source": [
    "cnt_dict = train_ft[\"국적\"].value_counts().to_dict()\n",
    "\n",
    "train_ft[\"국적\"] = train_ft[\"국적\"].map(cnt_dict)\n",
    "test_ft[\"국적\"] = test_ft[\"국적\"].map(cnt_dict)\n",
    "\n",
    "del cnt_dict\n",
    "gc.collect();"
   ]
  },
  {
   "cell_type": "markdown",
   "metadata": {},
   "source": [
    "### 장르"
   ]
  },
  {
   "cell_type": "code",
   "execution_count": 183,
   "metadata": {},
   "outputs": [],
   "source": [
    "cnt_dict = train_ft[\"장르\"].value_counts().to_dict()\n",
    "\n",
    "train_ft[\"장르\"] = train_ft[\"장르\"].map(cnt_dict)\n",
    "test_ft[\"장르\"] = test_ft[\"장르\"].map(cnt_dict)\n",
    "\n",
    "del cnt_dict\n",
    "gc.collect();"
   ]
  },
  {
   "cell_type": "markdown",
   "metadata": {},
   "source": [
    "### 등급"
   ]
  },
  {
   "cell_type": "code",
   "execution_count": 184,
   "metadata": {},
   "outputs": [],
   "source": [
    "cnt_dict = train_ft[\"등급\"].value_counts().to_dict()\n",
    "\n",
    "train_ft[\"등급\"] = train_ft[\"등급\"].map(cnt_dict)\n",
    "test_ft[\"등급\"] = test_ft[\"등급\"].map(cnt_dict)\n",
    "\n",
    "del cnt_dict\n",
    "gc.collect();"
   ]
  },
  {
   "cell_type": "markdown",
   "metadata": {},
   "source": [
    "### 영화구분"
   ]
  },
  {
   "cell_type": "code",
   "execution_count": 185,
   "metadata": {},
   "outputs": [],
   "source": [
    "cnt_dict = train_ft[\"영화구분\"].value_counts().to_dict()\n",
    "\n",
    "train_ft[\"영화구분\"] = train_ft[\"영화구분\"].map(cnt_dict)\n",
    "test_ft[\"영화구분\"] = test_ft[\"영화구분\"].map(cnt_dict)\n",
    "\n",
    "del cnt_dict\n",
    "gc.collect();"
   ]
  },
  {
   "cell_type": "code",
   "execution_count": 186,
   "metadata": {},
   "outputs": [
    {
     "name": "stdout",
     "output_type": "stream",
     "text": [
      "Empty DataFrame\n",
      "Columns: []\n",
      "Index: [1400, 1401, 1402, 1403, 1404, 1405, 1406, 1407, 1408, 1409, 1410, 1411, 1412, 1413, 1414, 1415, 1416, 1417, 1418, 1419, 1420, 1421, 1422, 1423, 1424, 1425, 1426, 1427, 1428, 1429, 1430, 1431, 1432, 1433, 1434, 1435, 1436, 1437, 1438, 1439, 1440, 1441, 1442, 1443, 1444, 1445, 1446, 1447, 1448, 1449, 1450, 1451, 1452, 1453, 1454, 1455, 1456, 1457, 1458, 1459, 1460, 1461, 1462, 1463, 1464, 1465, 1466, 1467, 1468, 1469, 1470, 1471, 1472, 1473, 1474, 1475, 1476, 1477, 1478, 1479, 1480, 1481, 1482, 1483, 1484, 1485, 1486, 1487, 1488, 1489, 1490, 1491, 1492, 1493, 1494, 1495, 1496, 1497, 1498, 1499, ...]\n",
      "\n",
      "[5664 rows x 0 columns]\n",
      "Empty DataFrame\n",
      "Columns: []\n",
      "Index: [0, 1, 2, 3, 4, 5, 6, 7, 8, 9, 10, 11, 12, 13, 14, 15, 16, 17, 18, 19, 20, 21, 22, 23, 24, 25, 26, 27, 28, 29, 30, 31, 32, 33, 34, 35, 36, 37, 38, 39, 40, 41, 42, 43, 44, 45, 46, 47, 48, 49, 50, 51, 52, 53, 54, 55, 56, 57, 58, 59, 60, 61, 62, 63, 64, 65, 66, 67, 68, 69, 70, 71, 72, 73, 74, 75, 76, 77, 78, 79, 80, 81, 82, 83, 84, 85, 86, 87, 88, 89, 90, 91, 92, 93, 94, 95, 96, 97, 98, 99, ...]\n",
      "\n",
      "[1400 rows x 0 columns]\n"
     ]
    }
   ],
   "source": [
    "print(train_ft.select_dtypes(\"object\"))\n",
    "print(test_ft.select_dtypes(\"object\"))"
   ]
  },
  {
   "cell_type": "code",
   "execution_count": 218,
   "metadata": {},
   "outputs": [
    {
     "data": {
      "text/plain": [
       "(0, 1057)"
      ]
     },
     "execution_count": 218,
     "metadata": {},
     "output_type": "execute_result"
    }
   ],
   "source": [
    "train_ft.isnull().sum().sum(), test_ft.isnull().sum().sum() # test_ft에 있는 데이터가 train_ft에 없는경우 결측치 생김"
   ]
  },
  {
   "cell_type": "code",
   "execution_count": 221,
   "metadata": {},
   "outputs": [],
   "source": [
    "test_ft = test_ft.fillna(0) # train_ft에 데이터가 없으므로 counter_encoding에 대한 결과가 0"
   ]
  },
  {
   "cell_type": "code",
   "execution_count": 222,
   "metadata": {},
   "outputs": [
    {
     "data": {
      "text/plain": [
       "(0, 0)"
      ]
     },
     "execution_count": 222,
     "metadata": {},
     "output_type": "execute_result"
    }
   ],
   "source": [
    "train_ft.isnull().sum().sum(), test_ft.isnull().sum().sum()"
   ]
  },
  {
   "cell_type": "markdown",
   "metadata": {},
   "source": [
    "## 원핫 인코딩"
   ]
  },
  {
   "cell_type": "code",
   "execution_count": 155,
   "metadata": {},
   "outputs": [],
   "source": [
    "# cols = train_ft.select_dtypes(\"object\").columns # 피쳐중 데이터 타입이 \"object\"만 추출\n",
    "# onehot_enc = OneHotEncoder(handle_unknown=\"ignore\")\n",
    "# train_encoded = onehot_enc.fit_transform(train_ft[cols]) # 데이터 타입 \"object\"만 원핫 인코딩\n",
    "# test_encoded = onehot_enc.transform(test_ft[cols])\n",
    "# train_ft = train_ft.drop(columns=cols) # train_ft에서 원핫인코딩으로 진행된 피처들 제거\n",
    "# test_ft = test_ft.drop(columns=cols)\n",
    "\n",
    "# # train_ft와 train_encoded 결합\n",
    "# train_sprs = sparse.hstack([sparse.csr_matrix(train_ft),\n",
    "#                                train_encoded],\n",
    "#                                format=\"csr\")\n",
    "\n",
    "# test_sprs = sparse.hstack([sparse.csr_matrix(test_ft),\n",
    "#                                test_encoded],\n",
    "#                                format=\"csr\")"
   ]
  },
  {
   "cell_type": "code",
   "execution_count": 156,
   "metadata": {},
   "outputs": [],
   "source": [
    "# sparse.hstack([sparse.csr_matrix(train_ft),\n",
    "#                train_encoded],\n",
    "#               format=\"csr\")"
   ]
  },
  {
   "cell_type": "code",
   "execution_count": 157,
   "metadata": {},
   "outputs": [],
   "source": [
    "# train_sprs.shape, test_sprs.shape"
   ]
  },
  {
   "cell_type": "markdown",
   "metadata": {},
   "source": [
    "# 모델링"
   ]
  },
  {
   "cell_type": "code",
   "execution_count": 224,
   "metadata": {},
   "outputs": [],
   "source": [
    "# feature_importance를 확인하기 위해 트리기반 모델 테스트\n",
    "rf_model = RandomForestRegressor(random_state=42)\n",
    "lgbm_model = LGBMRegressor(random_state=42)\n",
    "gb_model = GradientBoostingRegressor(random_state=42)\n",
    "hgb_model = HistGradientBoostingRegressor(random_state=42)"
   ]
  },
  {
   "cell_type": "code",
   "execution_count": 225,
   "metadata": {},
   "outputs": [
    {
     "data": {
      "text/plain": [
       "26532.785030467065"
      ]
     },
     "execution_count": 225,
     "metadata": {},
     "output_type": "execute_result"
    }
   ],
   "source": [
    "# rf_model_cross_val_score 점수 확인\n",
    "scores = cross_val_score(rf_model, train_ft, train_target, scoring=\"neg_root_mean_squared_error\", cv=KFold(n_splits=5, shuffle=True, random_state=42))\n",
    "-scores.mean()"
   ]
  },
  {
   "cell_type": "code",
   "execution_count": 226,
   "metadata": {},
   "outputs": [
    {
     "name": "stdout",
     "output_type": "stream",
     "text": [
      "[LightGBM] [Info] Auto-choosing row-wise multi-threading, the overhead of testing was 0.000520 seconds.\n",
      "You can set `force_row_wise=true` to remove the overhead.\n",
      "And if memory is not enough, you can set `force_col_wise=true`.\n",
      "[LightGBM] [Info] Total Bins 1270\n",
      "[LightGBM] [Info] Number of data points in the train set: 4531, number of used features: 14\n",
      "[LightGBM] [Info] Start training from score 13174.121607\n",
      "[LightGBM] [Info] Auto-choosing row-wise multi-threading, the overhead of testing was 0.000474 seconds.\n",
      "You can set `force_row_wise=true` to remove the overhead.\n",
      "And if memory is not enough, you can set `force_col_wise=true`.\n",
      "[LightGBM] [Info] Total Bins 1270\n",
      "[LightGBM] [Info] Number of data points in the train set: 4531, number of used features: 14\n",
      "[LightGBM] [Info] Start training from score 13366.217833\n",
      "[LightGBM] [Info] Auto-choosing row-wise multi-threading, the overhead of testing was 0.000511 seconds.\n",
      "You can set `force_row_wise=true` to remove the overhead.\n",
      "And if memory is not enough, you can set `force_col_wise=true`.\n",
      "[LightGBM] [Info] Total Bins 1270\n",
      "[LightGBM] [Info] Number of data points in the train set: 4531, number of used features: 14\n",
      "[LightGBM] [Info] Start training from score 12120.864268\n",
      "[LightGBM] [Info] Auto-choosing row-wise multi-threading, the overhead of testing was 0.000504 seconds.\n",
      "You can set `force_row_wise=true` to remove the overhead.\n",
      "And if memory is not enough, you can set `force_col_wise=true`.\n",
      "[LightGBM] [Info] Total Bins 1270\n",
      "[LightGBM] [Info] Number of data points in the train set: 4531, number of used features: 14\n",
      "[LightGBM] [Info] Start training from score 11899.249614\n",
      "[LightGBM] [Info] Auto-choosing row-wise multi-threading, the overhead of testing was 0.000489 seconds.\n",
      "You can set `force_row_wise=true` to remove the overhead.\n",
      "And if memory is not enough, you can set `force_col_wise=true`.\n",
      "[LightGBM] [Info] Total Bins 1269\n",
      "[LightGBM] [Info] Number of data points in the train set: 4532, number of used features: 14\n",
      "[LightGBM] [Info] Start training from score 12558.582966\n"
     ]
    },
    {
     "data": {
      "text/plain": [
       "66252.60944739109"
      ]
     },
     "execution_count": 226,
     "metadata": {},
     "output_type": "execute_result"
    }
   ],
   "source": [
    "# lgbm_model_cross_val_score 점수 확인\n",
    "scores = cross_val_score(lgbm_model, train_ft, train_target, scoring=\"neg_root_mean_squared_error\", cv=KFold(n_splits=5, shuffle=True, random_state=42))\n",
    "-scores.mean()"
   ]
  },
  {
   "cell_type": "code",
   "execution_count": 227,
   "metadata": {},
   "outputs": [
    {
     "data": {
      "text/plain": [
       "24134.16753922617"
      ]
     },
     "execution_count": 227,
     "metadata": {},
     "output_type": "execute_result"
    }
   ],
   "source": [
    "# gb_model_cross_val_score 점수 확인\n",
    "scores = cross_val_score(gb_model, train_ft, train_target, scoring=\"neg_root_mean_squared_error\", cv=KFold(n_splits=5, shuffle=True, random_state=42))\n",
    "-scores.mean()"
   ]
  },
  {
   "cell_type": "code",
   "execution_count": 228,
   "metadata": {},
   "outputs": [
    {
     "data": {
      "text/plain": [
       "87218.69028031713"
      ]
     },
     "execution_count": 228,
     "metadata": {},
     "output_type": "execute_result"
    }
   ],
   "source": [
    "# hgb_model_cross_val_score 점수 확인\n",
    "scores = cross_val_score(hgb_model, train_ft, train_target, scoring=\"neg_root_mean_squared_error\", cv=KFold(n_splits=5, shuffle=True, random_state=42))\n",
    "-scores.mean()"
   ]
  },
  {
   "cell_type": "markdown",
   "metadata": {},
   "source": [
    "# 최종 점수"
   ]
  },
  {
   "cell_type": "markdown",
   "metadata": {},
   "source": [
    "- rf_model score"
   ]
  },
  {
   "cell_type": "code",
   "execution_count": 229,
   "metadata": {},
   "outputs": [
    {
     "data": {
      "text/plain": [
       "299843.4630620125"
      ]
     },
     "execution_count": 229,
     "metadata": {},
     "output_type": "execute_result"
    }
   ],
   "source": [
    "rf_model.fit(train_ft, train_target)\n",
    "pred = rf_model.predict(test_ft)\n",
    "root_mean_squared_error(test_target, pred)"
   ]
  },
  {
   "cell_type": "markdown",
   "metadata": {},
   "source": [
    "- lgbm_model score"
   ]
  },
  {
   "cell_type": "code",
   "execution_count": 164,
   "metadata": {},
   "outputs": [
    {
     "name": "stdout",
     "output_type": "stream",
     "text": [
      "[LightGBM] [Info] Auto-choosing row-wise multi-threading, the overhead of testing was 0.000714 seconds.\n",
      "You can set `force_row_wise=true` to remove the overhead.\n",
      "And if memory is not enough, you can set `force_col_wise=true`.\n",
      "[LightGBM] [Info] Total Bins 1270\n",
      "[LightGBM] [Info] Number of data points in the train set: 5664, number of used features: 14\n",
      "[LightGBM] [Info] Start training from score 12623.804379\n"
     ]
    },
    {
     "data": {
      "text/plain": [
       "376682.6683953312"
      ]
     },
     "execution_count": 164,
     "metadata": {},
     "output_type": "execute_result"
    }
   ],
   "source": [
    "lgbm_model.fit(train_ft, train_target)\n",
    "pred = lgbm_model.predict(test_ft)\n",
    "root_mean_squared_error(test_target, pred)"
   ]
  },
  {
   "cell_type": "markdown",
   "metadata": {},
   "source": [
    "- gb_model score"
   ]
  },
  {
   "cell_type": "code",
   "execution_count": 233,
   "metadata": {},
   "outputs": [
    {
     "data": {
      "text/plain": [
       "291978.6681389068"
      ]
     },
     "execution_count": 233,
     "metadata": {},
     "output_type": "execute_result"
    }
   ],
   "source": [
    "gb_model.fit(train_ft, train_target)\n",
    "pred = gb_model.predict(test_ft)\n",
    "root_mean_squared_error(test_target, pred)"
   ]
  },
  {
   "cell_type": "markdown",
   "metadata": {},
   "source": [
    "- hgb_model score"
   ]
  },
  {
   "cell_type": "code",
   "execution_count": 234,
   "metadata": {},
   "outputs": [
    {
     "data": {
      "text/plain": [
       "383579.9603223585"
      ]
     },
     "execution_count": 234,
     "metadata": {},
     "output_type": "execute_result"
    }
   ],
   "source": [
    "hgb_model.fit(train_ft, train_target)\n",
    "pred = hgb_model.predict(test_ft)\n",
    "root_mean_squared_error(test_target, pred)"
   ]
  },
  {
   "cell_type": "markdown",
   "metadata": {},
   "source": [
    "# feature_importances"
   ]
  },
  {
   "cell_type": "code",
   "execution_count": 95,
   "metadata": {},
   "outputs": [
    {
     "data": {
      "image/png": "[encoded data removed]",
      "text/plain": [
       "<Figure size 640x480 with 1 Axes>"
      ]
     },
     "metadata": {},
     "output_type": "display_data"
    }
   ],
   "source": [
    "arg_idx = np.argsort(rf_model.feature_importances_)[::-1]\n",
    "\n",
    "sns.barplot(x = rf_model.feature_importances_[arg_idx], y = train_ft.columns[arg_idx])\n",
    "plt.title(\"rf_model: feature_importances\")\n",
    "plt.show()"
   ]
  },
  {
   "cell_type": "code",
   "execution_count": 97,
   "metadata": {},
   "outputs": [
    {
     "data": {
      "image/png": "[encoded data removed]",
      "text/plain": [
       "<Figure size 640x480 with 1 Axes>"
      ]
     },
     "metadata": {},
     "output_type": "display_data"
    }
   ],
   "source": [
    "arg_idx = np.argsort(lgbm_model.feature_importances_)[::-1]\n",
    "\n",
    "sns.barplot(x = lgbm_model.feature_importances_[arg_idx], y = train_ft.columns[arg_idx])\n",
    "plt.title(\"lgbm_model: feature_importances\")\n",
    "plt.show()"
   ]
  },
  {
   "cell_type": "code",
   "execution_count": 236,
   "metadata": {},
   "outputs": [
    {
     "data": {
      "image/png": "[encoded data removed]",
      "text/plain": [
       "<Figure size 640x480 with 1 Axes>"
      ]
     },
     "metadata": {},
     "output_type": "display_data"
    }
   ],
   "source": [
    "arg_idx = np.argsort(gb_model.feature_importances_)[::-1]\n",
    "\n",
    "sns.barplot(x = gb_model.feature_importances_[arg_idx], y = train_ft.columns[arg_idx])\n",
    "plt.title(\"gb_model: feature_importances\")\n",
    "plt.show()"
   ]
  },
  {
   "cell_type": "markdown",
   "metadata": {},
   "source": [
    "# 정리하기\n",
    "- 데이터의 최신 20%를 test 데이터로, 나머진 train 데이터\n",
    "- 인코딩: 전부 count_encoding\n",
    "- 스케일링: X\n",
    "- 모델링: RandomForestRegressor, GradientBoostingRegressor 점수가 잘나옴\n",
    "    - RandomForestRegressor\n",
    "        - cross_val_score: 26532\n",
    "        - final_score: 299843\n",
    "    - LGBMRegressor\n",
    "        - cross_val_score: 66252\n",
    "        - final_score: 376682\n",
    "    - GradientBoostingRegressor\n",
    "        - cross_val_score: 24134\n",
    "        - final_score: 291978\n",
    "    - HistGradientBoostingRegressor\n",
    "        - cross_val_score: 87218\n",
    "        - final_score: 383579\n",
    "- feature_importances\n",
    "    - RandomForestRegressor\n",
    "        - 매출금액, 서울관람객수, 서울매출금액 을 제외하고 거의 영향 X (매출금액 압도적)\n",
    "    - LGBMRegressor\n",
    "        - 총스크린수, 매출금액, 서울관람객수, 서울매출금액 < 영향 많이 끼침\n",
    "        - 그외에도 자잘하게 영향을 전부 조금씩은 미침\n",
    "    - GradientBoostingRegressor\n",
    "        - 매출금액, 서울관람객수, 서울매출금액 을 제외하고 거의 영향 X (매출금액 압도적)\n",
    "    - 영화형태: 두 모델전부 영향을 거의 끼치지 않음"
   ]
  }
 ],
 "metadata": {
  "kernelspec": {
   "display_name": "Python 3",
   "language": "python",
   "name": "python3"
  },
  "language_info": {
   "codemirror_mode": {
    "name": "ipython",
    "version": 3
   },
   "file_extension": ".py",
   "mimetype": "text/x-python",
   "name": "python",
   "nbconvert_exporter": "python",
   "pygments_lexer": "ipython3",
   "version": "3.12.5"
  }
 },
 "nbformat": 4,
 "nbformat_minor": 2
}
